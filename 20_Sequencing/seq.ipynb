{
 "cells": [
  {
   "cell_type": "markdown",
   "id": "631addb0-7136-47b1-a992-751e2e050281",
   "metadata": {},
   "source": [
    "# Chapter 20: Virtual Sequencing\n",
    "## Installation of Sequencer\n",
    "Install virtual sequencer with `sudo apt install mason2`\n",
    "## Assembler Installation\n",
    "Run `sudo apt install velvet`\n"
   ]
  },
  {
   "cell_type": "code",
   "execution_count": null,
   "id": "a47a33ca-3678-421b-b2f7-68807bc770f8",
   "metadata": {},
   "outputs": [],
   "source": [
    "mason_simulator"
   ]
  },
  {
   "cell_type": "markdown",
   "id": "e3819e17-b17f-4f4f-8b0c-7e2f070a5713",
   "metadata": {},
   "source": [
    "## Download DNA"
   ]
  },
  {
   "cell_type": "code",
   "execution_count": null,
   "id": "1608c587-410b-4726-9b4b-b66dcb4200a7",
   "metadata": {},
   "outputs": [],
   "source": [
    "efetch -db nuccore -id AM948965 -format fasta > mtDNAneander.fasta"
   ]
  },
  {
   "cell_type": "code",
   "execution_count": null,
   "id": "038e3c3a-a081-49e6-9cc8-b5ead4b2770a",
   "metadata": {},
   "outputs": [],
   "source": [
    "head -3 mtDNAneander.fasta"
   ]
  },
  {
   "cell_type": "markdown",
   "id": "6d3d5e20-5108-453b-9608-bbd69d33bf54",
   "metadata": {},
   "source": [
    "## Simulate Sequences"
   ]
  },
  {
   "cell_type": "code",
   "execution_count": null,
   "id": "c123d6a8-0a99-43ac-a6e2-4700ce32e2b1",
   "metadata": {},
   "outputs": [],
   "source": [
    "mason_simulator --ir mtDNAneander.fasta --out sanger-100.fastq --fragment-mean-size 700 -n 100 --seq-technology sanger"
   ]
  },
  {
   "cell_type": "code",
   "execution_count": null,
   "id": "37bdcbdf-a6ad-4cec-b545-baea79869257",
   "metadata": {},
   "outputs": [],
   "source": [
    "head -4 sanger-100.fastq"
   ]
  },
  {
   "cell_type": "code",
   "execution_count": null,
   "id": "b147e31b-6598-48a3-9037-5dd6e04eb45b",
   "metadata": {},
   "outputs": [],
   "source": [
    "wc -l sanger-100.fastq"
   ]
  },
  {
   "cell_type": "code",
   "execution_count": null,
   "id": "1dfbddf3-9b08-49a8-9485-affc9f4c9e7a",
   "metadata": {},
   "outputs": [],
   "source": [
    "bioawk -c fastx '{print \">\"$name\"\\n\"$seq}' sanger-100.fastq > sanger-100.fasta"
   ]
  },
  {
   "cell_type": "code",
   "execution_count": null,
   "id": "6728d855-9099-48bb-a551-904589d42abb",
   "metadata": {},
   "outputs": [],
   "source": [
    "velveth Assembly 19 -long -fastq sanger-100.fastq"
   ]
  },
  {
   "cell_type": "code",
   "execution_count": null,
   "id": "e8d26ca1-43c9-4678-90b7-627ea62769dc",
   "metadata": {},
   "outputs": [],
   "source": [
    "ls -l Assembly"
   ]
  },
  {
   "cell_type": "code",
   "execution_count": null,
   "id": "4ad6061c-6936-406f-b40a-68c5ca0b4c14",
   "metadata": {},
   "outputs": [],
   "source": [
    "velvetg Assembly"
   ]
  },
  {
   "cell_type": "code",
   "execution_count": null,
   "id": "778a190f-cf92-470b-8b97-75058daa30ae",
   "metadata": {},
   "outputs": [],
   "source": [
    "ls -l Assembly"
   ]
  },
  {
   "cell_type": "code",
   "execution_count": null,
   "id": "1c3c306c-034d-4ed6-8b12-689cb9126743",
   "metadata": {},
   "outputs": [],
   "source": [
    "egrep -c '>' Assembly/contigs.fa"
   ]
  },
  {
   "cell_type": "code",
   "execution_count": null,
   "id": "ee6d94a2-7108-4ab2-ad65-c2cfff5c12c2",
   "metadata": {},
   "outputs": [],
   "source": [
    "chmod u+x autorun.sh"
   ]
  },
  {
   "cell_type": "code",
   "execution_count": null,
   "id": "684263c5-730c-405e-bbae-1015d280fd25",
   "metadata": {},
   "outputs": [],
   "source": [
    "./autorun.sh > count.tab"
   ]
  },
  {
   "cell_type": "code",
   "execution_count": null,
   "id": "a26fcff4-2bfb-4a89-889a-5907f20e546e",
   "metadata": {
    "jp-MarkdownHeadingCollapsed": true
   },
   "outputs": [],
   "source": [
    "mason_simulator --ir mtDNAneander.fasta --out sanger.fastq --fragment-mean-size 900 -n 24 --seq-technology sanger"
   ]
  },
  {
   "cell_type": "code",
   "execution_count": null,
   "id": "e002eec6-942f-4b73-b8dc-4dbe8338f8af",
   "metadata": {},
   "outputs": [],
   "source": []
  }
 ],
 "metadata": {
  "kernelspec": {
   "display_name": "Bash",
   "language": "bash",
   "name": "bash"
  },
  "language_info": {
   "codemirror_mode": "shell",
   "file_extension": ".sh",
   "mimetype": "text/x-sh",
   "name": "bash"
  }
 },
 "nbformat": 4,
 "nbformat_minor": 5
}
